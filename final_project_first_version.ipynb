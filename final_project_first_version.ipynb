{
 "cells": [
  {
   "cell_type": "markdown",
   "metadata": {},
   "source": [
    "Представьте, что вы работаете в компании, которая разрабатывает мобильные игры. \n",
    "К вам пришел менеджер с рядом задач по исследованию нескольких аспектов мобильного приложения:\n",
    "\n",
    "1. В первую очередь, его интересует показатель retention. Напишите функцию для его подсчета.\n",
    "2. Помимо этого, в компании провели A/B тестирование наборов акционных предложений. На основе имеющихся данных определите, какой набор можно считать лучшим и на основе каких метрик стоит принять правильное решение.\n",
    "3. Предложите метрики для оценки результатов последнего прошедшего тематического события в игре."
   ]
  },
  {
   "cell_type": "code",
   "execution_count": 16,
   "metadata": {},
   "outputs": [],
   "source": [
    "import pandas as pd\n",
    "import matplotlib.pyplot as plt\n",
    "import matplotlib.colors as mcolors\n",
    "from operator import attrgetter\n",
    "import seaborn as sns\n",
    "import scipy as sci\n",
    "from statsmodels.stats.proportion import proportions_ztest\n",
    "import numpy as np"
   ]
  },
  {
   "cell_type": "markdown",
   "metadata": {},
   "source": [
    "# ЗАДАЧА №1"
   ]
  },
  {
   "cell_type": "code",
   "execution_count": 17,
   "metadata": {},
   "outputs": [],
   "source": [
    "reg_data = pd.read_csv('~/shared/problem1-reg_data.csv', sep=';')\n",
    "auth_data = pd.read_csv('~/shared/problem1-auth_data.csv', sep=';')"
   ]
  },
  {
   "cell_type": "code",
   "execution_count": 18,
   "metadata": {},
   "outputs": [],
   "source": [
    "# Перевожу ts в dt\n",
    "reg_data['reg_ts'] = pd.to_datetime(reg_data['reg_ts'], unit='s')\n",
    "auth_data['auth_ts'] = pd.to_datetime(auth_data['auth_ts'], unit='s')"
   ]
  },
  {
   "cell_type": "code",
   "execution_count": 19,
   "metadata": {},
   "outputs": [
    {
     "data": {
      "text/html": [
       "<div>\n",
       "<style scoped>\n",
       "    .dataframe tbody tr th:only-of-type {\n",
       "        vertical-align: middle;\n",
       "    }\n",
       "\n",
       "    .dataframe tbody tr th {\n",
       "        vertical-align: top;\n",
       "    }\n",
       "\n",
       "    .dataframe thead th {\n",
       "        text-align: right;\n",
       "    }\n",
       "</style>\n",
       "<table border=\"1\" class=\"dataframe\">\n",
       "  <thead>\n",
       "    <tr style=\"text-align: right;\">\n",
       "      <th></th>\n",
       "      <th>auth_ts</th>\n",
       "      <th>uid</th>\n",
       "    </tr>\n",
       "  </thead>\n",
       "  <tbody>\n",
       "    <tr>\n",
       "      <th>0</th>\n",
       "      <td>1998-11-18 09:43:43</td>\n",
       "      <td>1</td>\n",
       "    </tr>\n",
       "    <tr>\n",
       "      <th>1</th>\n",
       "      <td>1999-07-22 22:38:09</td>\n",
       "      <td>2</td>\n",
       "    </tr>\n",
       "    <tr>\n",
       "      <th>2</th>\n",
       "      <td>1999-07-25 16:46:46</td>\n",
       "      <td>2</td>\n",
       "    </tr>\n",
       "    <tr>\n",
       "      <th>3</th>\n",
       "      <td>1999-07-31 03:50:15</td>\n",
       "      <td>2</td>\n",
       "    </tr>\n",
       "    <tr>\n",
       "      <th>4</th>\n",
       "      <td>1999-08-05 17:49:39</td>\n",
       "      <td>2</td>\n",
       "    </tr>\n",
       "  </tbody>\n",
       "</table>\n",
       "</div>"
      ],
      "text/plain": [
       "              auth_ts  uid\n",
       "0 1998-11-18 09:43:43    1\n",
       "1 1999-07-22 22:38:09    2\n",
       "2 1999-07-25 16:46:46    2\n",
       "3 1999-07-31 03:50:15    2\n",
       "4 1999-08-05 17:49:39    2"
      ]
     },
     "execution_count": 19,
     "metadata": {},
     "output_type": "execute_result"
    }
   ],
   "source": [
    "auth_data.head()\n"
   ]
  },
  {
   "cell_type": "code",
   "execution_count": 20,
   "metadata": {},
   "outputs": [
    {
     "data": {
      "text/html": [
       "<div>\n",
       "<style scoped>\n",
       "    .dataframe tbody tr th:only-of-type {\n",
       "        vertical-align: middle;\n",
       "    }\n",
       "\n",
       "    .dataframe tbody tr th {\n",
       "        vertical-align: top;\n",
       "    }\n",
       "\n",
       "    .dataframe thead th {\n",
       "        text-align: right;\n",
       "    }\n",
       "</style>\n",
       "<table border=\"1\" class=\"dataframe\">\n",
       "  <thead>\n",
       "    <tr style=\"text-align: right;\">\n",
       "      <th></th>\n",
       "      <th>reg_ts</th>\n",
       "      <th>uid</th>\n",
       "    </tr>\n",
       "  </thead>\n",
       "  <tbody>\n",
       "    <tr>\n",
       "      <th>0</th>\n",
       "      <td>1998-11-18 09:43:43</td>\n",
       "      <td>1</td>\n",
       "    </tr>\n",
       "    <tr>\n",
       "      <th>1</th>\n",
       "      <td>1999-07-22 22:38:09</td>\n",
       "      <td>2</td>\n",
       "    </tr>\n",
       "    <tr>\n",
       "      <th>2</th>\n",
       "      <td>2000-01-13 22:27:27</td>\n",
       "      <td>3</td>\n",
       "    </tr>\n",
       "    <tr>\n",
       "      <th>3</th>\n",
       "      <td>2000-05-28 14:19:01</td>\n",
       "      <td>4</td>\n",
       "    </tr>\n",
       "    <tr>\n",
       "      <th>4</th>\n",
       "      <td>2000-09-16 11:21:53</td>\n",
       "      <td>5</td>\n",
       "    </tr>\n",
       "  </tbody>\n",
       "</table>\n",
       "</div>"
      ],
      "text/plain": [
       "               reg_ts  uid\n",
       "0 1998-11-18 09:43:43    1\n",
       "1 1999-07-22 22:38:09    2\n",
       "2 2000-01-13 22:27:27    3\n",
       "3 2000-05-28 14:19:01    4\n",
       "4 2000-09-16 11:21:53    5"
      ]
     },
     "execution_count": 20,
     "metadata": {},
     "output_type": "execute_result"
    }
   ],
   "source": [
    "reg_data.head()\n"
   ]
  },
  {
   "cell_type": "code",
   "execution_count": 21,
   "metadata": {},
   "outputs": [],
   "source": [
    "# Объединяю таблицы по uid\n",
    "merge_df = pd.merge(reg_data, auth_data, on='uid', how='left')"
   ]
  },
  {
   "cell_type": "code",
   "execution_count": 22,
   "metadata": {},
   "outputs": [],
   "source": [
    "# Фильтрую данные только за 2020 год по дате регистрации, чтобы видеть актуальные данные за последние 9 месяцев\n",
    "merge_df = merge_df[merge_df['reg_ts'].dt.year == 2020]"
   ]
  },
  {
   "cell_type": "code",
   "execution_count": 23,
   "metadata": {},
   "outputs": [],
   "source": [
    "# Функция для подсчёта retention. На вход ожидается объединённая таблица с днями регистрации и авторизации,\n",
    "# количество периодов (дни с начала года, необязательный параметр), количество когорт (необязательный параметр)\n",
    "def calc_retention(union_table, max_periods=30, max_cohorts=10):\n",
    "    \n",
    "    # Присваиваю когорты на основе даты регистрации для каждого пользователя\n",
    "    union_table['cohort_day'] = union_table['reg_ts'].dt.to_period('D')\n",
    "\n",
    "    # Рассчитываю номер периода в днях\n",
    "    union_table['period_num_day'] = np.floor((union_table['auth_ts'] - union_table['reg_ts']).apply(attrgetter('days')))\n",
    "\n",
    "    # Агрегирую данные по когортам и рассчитанному номеру периода\n",
    "    df_cohort = union_table.groupby(['cohort_day', 'period_num_day']).agg(n_users=('uid', 'nunique')).reset_index()\n",
    "\n",
    "    # Создаю сводную таблицу для когортного анализа\n",
    "    cohort_pivot = df_cohort.pivot_table(index='cohort_day', columns='period_num_day', values='n_users')\n",
    "    \n",
    "    # Ограничиваю количество периодов на тепловой карте\n",
    "    cohort_pivot = cohort_pivot.iloc[:, :max_periods]\n",
    "    \n",
    "    # Ограничиваю количество когорт на тепловой карте   \n",
    "    cohort_pivot = cohort_pivot.iloc[-max_cohorts:, :]\n",
    "\n",
    "    # Рассчитываю размеры когорт (первый столбец сводной таблицы)\n",
    "    cohort_size = cohort_pivot.iloc[:, 0]\n",
    "\n",
    "    # Вычисляю коэффициенты удержания, деля на размер когорты\n",
    "    retention_matrix = cohort_pivot.divide(cohort_size, axis=0)\n",
    "    \n",
    "    # Строю тепловую карту когортного анализа\n",
    "    with sns.axes_style(\"white\"):\n",
    "        fig, ax = plt.subplots(1, 2, figsize=(20, 12), sharey=True, gridspec_kw={'width_ratios': [1, 11]})\n",
    "\n",
    "    # Тепловая карта для коэффициентов удержания\n",
    "        sns.heatmap(retention_matrix.iloc[:, 1:],\n",
    "                    mask=retention_matrix.iloc[:, 1:].isnull(),\n",
    "                    annot=True,\n",
    "                    fmt='.0%',\n",
    "                    cmap='RdYlGn',\n",
    "                    ax=ax[1])\n",
    "        ax[1].set_title('Daily Retention', fontsize=16)\n",
    "        ax[1].set(xlabel='№ периода', ylabel='Когорта')\n",
    "\n",
    "    # Тепловая карта для размеров когорт\n",
    "        cohort_size_df = pd.DataFrame(cohort_size).rename(columns={0: 'cohort_size'})\n",
    "        white_cmap = mcolors.ListedColormap(['white'])\n",
    "        sns.heatmap(cohort_size_df,\n",
    "                    annot=True,\n",
    "                    cbar=False,\n",
    "                    fmt='g',\n",
    "                    cmap=white_cmap,\n",
    "                    ax=ax[0])\n",
    "\n",
    "        fig.tight_layout()\n",
    "        plt.show()\n",
    "        \n",
    "    # Возвращаю результат расчёта\n",
    "    return sns.axes_style(\"white\")"
   ]
  },
  {
   "cell_type": "code",
   "execution_count": 24,
   "metadata": {
    "scrolled": false
   },
   "outputs": [
    {
     "data": {
      "image/png": "[encoded data removed]",
      "text/plain": [
       "<Figure size 1440x864 with 3 Axes>"
      ]
     },
     "metadata": {},
     "output_type": "display_data"
    },
    {
     "data": {
      "text/plain": [
       "{'figure.facecolor': 'white',\n",
       " 'axes.labelcolor': '.15',\n",
       " 'xtick.direction': 'out',\n",
       " 'ytick.direction': 'out',\n",
       " 'xtick.color': '.15',\n",
       " 'ytick.color': '.15',\n",
       " 'axes.axisbelow': True,\n",
       " 'grid.linestyle': '-',\n",
       " 'text.color': '.15',\n",
       " 'font.family': ['sans-serif'],\n",
       " 'font.sans-serif': ['Arial',\n",
       "  'DejaVu Sans',\n",
       "  'Liberation Sans',\n",
       "  'Bitstream Vera Sans',\n",
       "  'sans-serif'],\n",
       " 'lines.solid_capstyle': 'round',\n",
       " 'patch.edgecolor': 'w',\n",
       " 'patch.force_edgecolor': True,\n",
       " 'image.cmap': 'rocket',\n",
       " 'xtick.top': False,\n",
       " 'ytick.right': False,\n",
       " 'axes.grid': False,\n",
       " 'axes.facecolor': 'white',\n",
       " 'axes.edgecolor': '.15',\n",
       " 'grid.color': '.8',\n",
       " 'axes.spines.left': True,\n",
       " 'axes.spines.bottom': True,\n",
       " 'axes.spines.right': True,\n",
       " 'axes.spines.top': True,\n",
       " 'xtick.bottom': False,\n",
       " 'ytick.left': False}"
      ]
     },
     "execution_count": 24,
     "metadata": {},
     "output_type": "execute_result"
    }
   ],
   "source": [
    "# Работа функции для расчёта когортного анализа\n",
    "calc_retention(merge_df)"
   ]
  },
  {
   "cell_type": "markdown",
   "metadata": {},
   "source": [
    "# ЗАДАЧА №2\n"
   ]
  },
  {
   "cell_type": "code",
   "execution_count": 25,
   "metadata": {},
   "outputs": [
    {
     "data": {
      "text/html": [
       "<div>\n",
       "<style scoped>\n",
       "    .dataframe tbody tr th:only-of-type {\n",
       "        vertical-align: middle;\n",
       "    }\n",
       "\n",
       "    .dataframe tbody tr th {\n",
       "        vertical-align: top;\n",
       "    }\n",
       "\n",
       "    .dataframe thead th {\n",
       "        text-align: right;\n",
       "    }\n",
       "</style>\n",
       "<table border=\"1\" class=\"dataframe\">\n",
       "  <thead>\n",
       "    <tr style=\"text-align: right;\">\n",
       "      <th></th>\n",
       "      <th>user_id</th>\n",
       "      <th>revenue</th>\n",
       "      <th>testgroup</th>\n",
       "    </tr>\n",
       "  </thead>\n",
       "  <tbody>\n",
       "    <tr>\n",
       "      <th>0</th>\n",
       "      <td>1</td>\n",
       "      <td>0</td>\n",
       "      <td>b</td>\n",
       "    </tr>\n",
       "    <tr>\n",
       "      <th>1</th>\n",
       "      <td>2</td>\n",
       "      <td>0</td>\n",
       "      <td>a</td>\n",
       "    </tr>\n",
       "    <tr>\n",
       "      <th>2</th>\n",
       "      <td>3</td>\n",
       "      <td>0</td>\n",
       "      <td>a</td>\n",
       "    </tr>\n",
       "    <tr>\n",
       "      <th>3</th>\n",
       "      <td>4</td>\n",
       "      <td>0</td>\n",
       "      <td>b</td>\n",
       "    </tr>\n",
       "    <tr>\n",
       "      <th>4</th>\n",
       "      <td>5</td>\n",
       "      <td>0</td>\n",
       "      <td>b</td>\n",
       "    </tr>\n",
       "  </tbody>\n",
       "</table>\n",
       "</div>"
      ],
      "text/plain": [
       "   user_id  revenue testgroup\n",
       "0        1        0         b\n",
       "1        2        0         a\n",
       "2        3        0         a\n",
       "3        4        0         b\n",
       "4        5        0         b"
      ]
     },
     "execution_count": 25,
     "metadata": {},
     "output_type": "execute_result"
    }
   ],
   "source": [
    "data = pd.read_csv('~/shared/problem2.csv', sep=';')\n",
    "data.head()"
   ]
  },
  {
   "cell_type": "code",
   "execution_count": 26,
   "metadata": {},
   "outputs": [
    {
     "name": "stdout",
     "output_type": "stream",
     "text": [
      "<class 'pandas.core.frame.DataFrame'>\n",
      "RangeIndex: 404770 entries, 0 to 404769\n",
      "Data columns (total 3 columns):\n",
      " #   Column     Non-Null Count   Dtype \n",
      "---  ------     --------------   ----- \n",
      " 0   user_id    404770 non-null  int64 \n",
      " 1   revenue    404770 non-null  int64 \n",
      " 2   testgroup  404770 non-null  object\n",
      "dtypes: int64(2), object(1)\n",
      "memory usage: 9.3+ MB\n"
     ]
    }
   ],
   "source": [
    "# Смотрю типы данных, количество пустых строк\n",
    "data.info()"
   ]
  },
  {
   "cell_type": "code",
   "execution_count": 27,
   "metadata": {},
   "outputs": [
    {
     "name": "stdout",
     "output_type": "stream",
     "text": [
      "Всего людей: a = 202103 | b = 202667\n",
      "Платящие: a = 1928 | b = 1805\n",
      "Конверсия: a = 0.00954 | b = 0.00891\n",
      "Средний доход на пользователя: a = 25.414 | b = 26.751\n",
      "Средний доход на платящего пользователя: a = 2663.998 | b = 3003.658\n"
     ]
    }
   ],
   "source": [
    "# Рассчитываю общее кол-во человек в кажддой группе\n",
    "\n",
    "control_group = data[data['testgroup'] == 'a']\n",
    "test_group = data[data['testgroup'] == 'b']\n",
    "\n",
    "print(f'Всего людей: a = {len(control_group)} | b = {len(test_group)}')\n",
    "\n",
    "# Рассчитываю кол-во платящих пользователей в каждой группе\n",
    "pay_control = (control_group['revenue'] > 0).sum()\n",
    "pay_test = (test_group['revenue'] > 0).sum()\n",
    "\n",
    "print(f'Платящие: a = {pay_control} | b = {pay_test}')\n",
    "\n",
    "# Рассчитываю конверсию в платящего пользователя\n",
    "cr_control = pay_control / len(control_group)\n",
    "cr_test = pay_test / len(test_group)\n",
    "\n",
    "print(f'Конверсия: a = {round(cr_control, 5)} | b = {round(cr_test, 5)}')\n",
    "\n",
    "# Рассчитываю ARPU\n",
    "arpu_control = control_group['revenue'].mean()\n",
    "arpu_test = test_group['revenue'].mean()\n",
    "\n",
    "print(f'Средний доход на пользователя: a = {round(arpu_control, 3)} | b = {round(arpu_test, 3)}')\n",
    "\n",
    "# Рассчитываю ARPPU\n",
    "arppu_control = control_group[control_group['revenue'] > 0]['revenue'].mean()\n",
    "arppu_test = test_group[test_group['revenue'] > 0]['revenue'].mean()\n",
    "\n",
    "print(f'Средний доход на платящего пользователя: a = {round(arppu_control, 3)} | b = {round(arppu_test, 3)}')\n",
    "\n"
   ]
  },
  {
   "cell_type": "code",
   "execution_count": 28,
   "metadata": {},
   "outputs": [
    {
     "name": "stdout",
     "output_type": "stream",
     "text": [
      "Т-статистика: -0.6234876562792212 | p-value: 0.5329647014130866\n"
     ]
    }
   ],
   "source": [
    "# Для проверки статистической значимости ARPU использую t-тест\n",
    "# Не проверяю нормальность выборки, т.к. объём выборки большой\n",
    "# При приблизительном равенстве размера выборок для t-теста неважно,\n",
    "# различаются ли дисперсии, но всё же буду использовать вариант Уэлча\n",
    "\n",
    "t_test, p_value_arpu = sci.stats.ttest_ind(control_group['revenue'], test_group['revenue'], equal_var=False)\n",
    "\n",
    "print(f'Т-статистика: {t_test} | p-value: {p_value_arpu}')"
   ]
  },
  {
   "cell_type": "code",
   "execution_count": 29,
   "metadata": {},
   "outputs": [
    {
     "name": "stdout",
     "output_type": "stream",
     "text": [
      "Т-статистика: -1.6446302664300838 | p-value: 0.10020780398916015\n"
     ]
    }
   ],
   "source": [
    "# Для проверки статистической значимости ARPPU использую t-тест по тем же причинам, что и для ARPU\n",
    "# Так же использую вариант Уэлча, чтобы не думать о разнице дисперсий\n",
    "\n",
    "t_test, p_value_arppu = sci.stats.ttest_ind(control_group[control_group['revenue'] > 0]['revenue'],\n",
    "                                            test_group[test_group['revenue'] > 0]['revenue'], equal_var=False)\n",
    "\n",
    "print(f'Т-статистика: {t_test} | p-value: {p_value_arppu}')"
   ]
  },
  {
   "cell_type": "code",
   "execution_count": 30,
   "metadata": {},
   "outputs": [
    {
     "name": "stdout",
     "output_type": "stream",
     "text": [
      "Z-статистика: 2.108028495889841 | p-value: 0.035028524642854865\n"
     ]
    }
   ],
   "source": [
    "# Для проверки статистической значимости конверсии использую z-тест для пропорций\n",
    "# Не проверяю нормальность выборки, т.к. объём выборки большой\n",
    "\n",
    "z_test, p_value_cr = proportions_ztest([pay_control, pay_test], [len(control_group), len(test_group)])\n",
    "\n",
    "print(f'Z-статистика: {z_test} | p-value: {p_value_cr}')"
   ]
  },
  {
   "cell_type": "markdown",
   "metadata": {},
   "source": [
    "# Выводы по статистическому анализу:\n",
    "1. По ARPU показатель p-value > 0,05 => различия не являются достоверными.\n",
    "2. По ARPPU показатель p-value > 0,05 => различия не являются достоверными.\n",
    "3. По конверсии показатель p-value < 0,05 => различия являются достоверными."
   ]
  },
  {
   "cell_type": "markdown",
   "metadata": {},
   "source": [
    "# Ответы на поставленные вопросы:\n",
    "\n",
    "1. Какие метрики стоит проанализировать для принятия правильного решения и как?\n",
    "С целью принятию правильного решения по вопросу акционного предложения стоит проанализировать метрики: ARPU, ARRPU, конверсию в платящего пользователя.\n",
    "\n",
    "2. Какой набор предложений можно считать лучшим?\n",
    "По результам проведенного статистического анализа, можно сделать вывод, что предложенные акционные предложения в контрольной группе не оказали значимых различий на доход от пользователей. Но повлияли на увеличение количества платящих пользователей (что является следствием увеличения конверсии в платящего пользователя).\n",
    "\n",
    "Предположения о причинах неизменности дохода:\n",
    "1. Не учёт времени года (праздников, мировых событий) при введении акционных предложений.\n",
    "2. Отсутствие новизны в акционных предложениях.\n",
    "3. Слишком низкая привлекательность акционного предложения.\n"
   ]
  },
  {
   "cell_type": "markdown",
   "metadata": {},
   "source": [
    "# ЗАДАЧА №3\n",
    "Метрики, которые можно использовать для оценки результатов игровых событий:\n",
    "    1. PPE - players per event. Доля игроков, которая приняла участие в событии, относительно доли игроков, которые авторизовались в игре за время проведения ивента.\n",
    "    Здесь мы сможем посмотреть, мотивировала ли предложенная награда и тематика участвовать игроков в событии. (расчёт: участники события/все авторизованные игроки за время события).\n",
    "    2. MLF - mode levels finished. Количество пройденных этапов относительно количества разработанных для проведения события.\n",
    "    Здесь можно увидеть достаточно ли уровней для прохождения участниками события. (расчёт: мода пройденных уровней участниками/все уровни).\n",
    "    3. MLС - mode levels complexity. Мода количества попыток, которое пользователь потратил на прохождение одного уровня. (расчёт: мода пройденных уровней/количество пройденных уровней)\n",
    "    4. ARPU (average revenue per user) - средний чек по участнику события.\n",
    "    5. CPA (cost per action) - стоимость привлечения участника события.\n",
    "    6. Total revenue - общий доход от события.\n",
    "    7. Conversion rate - конверсия в платящего пользователя.\n",
    "    8. Время, которое пользователь провёл в игре относительно времени в игре до события. (среднее время пользователя в игре во время события/среднее время пользователя в игре вне события).\n",
    "    9. Процент игроков полностью завершивших событие.(количество участников завершивших событие/количество всех участников)\n",
    "    \n",
    "При усложнении механики можно начать учитывать количество поражений для более точного отслеживания сложности механики,\n",
    "но мне кажется, что это избыточно.(Т.к. MLF и MLC всё ещё будут отражать сложность)\n",
    "\n"
   ]
  },
  {
   "cell_type": "code",
   "execution_count": null,
   "metadata": {},
   "outputs": [],
   "source": []
  }
 ],
 "metadata": {
  "kernelspec": {
   "display_name": "Python 3",
   "language": "python",
   "name": "python3"
  },
  "language_info": {
   "codemirror_mode": {
    "name": "ipython",
    "version": 3
   },
   "file_extension": ".py",
   "mimetype": "text/x-python",
   "name": "python",
   "nbconvert_exporter": "python",
   "pygments_lexer": "ipython3",
   "version": "3.7.3"
  }
 },
 "nbformat": 4,
 "nbformat_minor": 4
}
